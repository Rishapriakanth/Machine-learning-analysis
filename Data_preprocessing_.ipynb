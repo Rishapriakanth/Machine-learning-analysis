{
  "nbformat": 4,
  "nbformat_minor": 0,
  "metadata": {
    "colab": {
      "provenance": [],
      "authorship_tag": "ABX9TyN3p8rZkOxXze1idZnX31JJ",
      "include_colab_link": true
    },
    "kernelspec": {
      "name": "python3",
      "display_name": "Python 3"
    },
    "language_info": {
      "name": "python"
    }
  },
  "cells": [
    {
      "cell_type": "markdown",
      "metadata": {
        "id": "view-in-github",
        "colab_type": "text"
      },
      "source": [
        "<a href=\"https://colab.research.google.com/github/Rishapriakanth/Machine-learning-analysis/blob/main/Data_preprocessing_.ipynb\" target=\"_parent\"><img src=\"https://colab.research.google.com/assets/colab-badge.svg\" alt=\"Open In Colab\"/></a>"
      ]
    },
    {
      "cell_type": "code",
      "execution_count": null,
      "metadata": {
        "colab": {
          "base_uri": "https://localhost:8080/"
        },
        "id": "VFnbkUQBkp0E",
        "outputId": "4447d738-f81b-43d4-925e-93a2816a90cb"
      },
      "outputs": [
        {
          "output_type": "stream",
          "name": "stdout",
          "text": [
            "   id    first     last gender  marks selected\n",
            "0   1      leo      deb      f     50        t\n",
            "1   2   romola     phin      f     60        f\n",
            "2   3     geri    prium      m     65        f\n",
            "3   4    sandy     dove      f     95        f\n",
            "4   5  jacenta   jansik      f     31        t\n",
            "5   6    diane     medh      f     45        t\n",
            "6   7   austen     pool      m     45        t\n",
            "7   8    vanya     teff      m     70        f\n",
            "8   9      gio    elloy      m     36        f\n",
            "9  10   rozele  fawcett      f     50        f\n",
            "   id    first     last  gender  marks selected\n",
            "0   1      leo      deb       0     50        t\n",
            "1   2   romola     phin       0     60        f\n",
            "2   3     geri    prium       1     65        f\n",
            "3   4    sandy     dove       0     95        f\n",
            "4   5  jacenta   jansik       0     31        t\n",
            "5   6    diane     medh       0     45        t\n",
            "6   7   austen     pool       1     45        t\n",
            "7   8    vanya     teff       1     70        f\n",
            "8   9      gio    elloy       1     36        f\n",
            "9  10   rozele  fawcett       0     50        f\n"
          ]
        }
      ],
      "source": [
        "import pandas as pd\n",
        "from sklearn.preprocessing import LabelEncoder\n",
        "df = pd.read_csv(\"/content/sample - Sheet1.csv\")\n",
        "print(df)\n",
        "df_gender_encode=LabelEncoder()\n",
        "df.gender=df_gender_encode.fit_transform(df.gender)\n",
        "print(df)"
      ]
    },
    {
      "cell_type": "code",
      "source": [
        "from sklearn import preprocessing\n",
        "df.marks = preprocessing.scale(df.marks)\n",
        "scaled_df= preprocessing.scale(df.marks)\n",
        "print(df)\n",
        "newarr = scaled_df.reshape(-1,1)\n",
        "scaled_df_bin = preprocessing.Binarizer(threshold=0.5).transform(newarr)\n",
        "df['marks']=scaled_df_bin\n",
        "print(df)\n",
        "print(\"Binarizarion of marks is completed\\n\\n\\n\\n\")"
      ],
      "metadata": {
        "colab": {
          "base_uri": "https://localhost:8080/"
        },
        "id": "3120RV9N4X8z",
        "outputId": "c1c9f078-fdd8-4419-e56e-d4fb2002bd49"
      },
      "execution_count": null,
      "outputs": [
        {
          "output_type": "stream",
          "name": "stdout",
          "text": [
            "   id    first     last  gender     marks selected\n",
            "0   1      leo      deb       0 -0.265401        t\n",
            "1   2   romola     phin       0  0.299282        f\n",
            "2   3     geri    prium       1  0.581624        f\n",
            "3   4    sandy     dove       0  2.275674        f\n",
            "4   5  jacenta   jansik       0 -1.338300        t\n",
            "5   6    diane     medh       0 -0.547743        t\n",
            "6   7   austen     pool       1 -0.547743        t\n",
            "7   8    vanya     teff       1  0.863966        f\n",
            "8   9      gio    elloy       1 -1.055958        f\n",
            "9  10   rozele  fawcett       0 -0.265401        f\n",
            "   id    first     last  gender  marks selected\n",
            "0   1      leo      deb       0    0.0        t\n",
            "1   2   romola     phin       0    0.0        f\n",
            "2   3     geri    prium       1    1.0        f\n",
            "3   4    sandy     dove       0    1.0        f\n",
            "4   5  jacenta   jansik       0    0.0        t\n",
            "5   6    diane     medh       0    0.0        t\n",
            "6   7   austen     pool       1    0.0        t\n",
            "7   8    vanya     teff       1    1.0        f\n",
            "8   9      gio    elloy       1    0.0        f\n",
            "9  10   rozele  fawcett       0    0.0        f\n",
            "Binarizarion of marks is completed\n",
            "\n",
            "\n",
            "\n",
            "\n"
          ]
        }
      ]
    },
    {
      "cell_type": "code",
      "source": [
        "import pandas as pd\n",
        "df = pd.read_csv(\"/content/sample - Sheet1.csv\")\n",
        "print(df)\n",
        "print(\"End of Listing\\n\\n\\n\")\n",
        "# Let us create duplicate elements in the given dataset\n",
        "# This is done using the command concate 2 times as given below\n",
        "df_duplicated = pd.concat([df]*2, ignore_index=True)\n",
        "print(df_duplicated)\n",
        "print(\"Display before duplication\\n\\n\\n\\n\")\n",
        "df_duplicates_removed = pd.DataFrame.drop_duplicates(df_duplicated)\n",
        "print(df_duplicates_removed)\n",
        "print(\"Display after duplication\\n\\n\\n\\n\")"
      ],
      "metadata": {
        "colab": {
          "base_uri": "https://localhost:8080/"
        },
        "id": "pPk79KGg6Pa9",
        "outputId": "5788dd01-cb55-476f-95a0-94491fac9f0e"
      },
      "execution_count": null,
      "outputs": [
        {
          "output_type": "stream",
          "name": "stdout",
          "text": [
            "   id    first     last gender  marks selected\n",
            "0   1      leo      deb      f     50        t\n",
            "1   2   romola     phin      f     60        f\n",
            "2   3     geri    prium      m     65        f\n",
            "3   4    sandy     dove      f     95        f\n",
            "4   5  jacenta   jansik      f     31        t\n",
            "5   6    diane     medh      f     45        t\n",
            "6   7   austen     pool      m     45        t\n",
            "7   8    vanya     teff      m     70        f\n",
            "8   9      gio    elloy      m     36        f\n",
            "9  10   rozele  fawcett      f     50        f\n",
            "End of Listing\n",
            "\n",
            "\n",
            "\n",
            "    id    first     last gender  marks selected\n",
            "0    1      leo      deb      f     50        t\n",
            "1    2   romola     phin      f     60        f\n",
            "2    3     geri    prium      m     65        f\n",
            "3    4    sandy     dove      f     95        f\n",
            "4    5  jacenta   jansik      f     31        t\n",
            "5    6    diane     medh      f     45        t\n",
            "6    7   austen     pool      m     45        t\n",
            "7    8    vanya     teff      m     70        f\n",
            "8    9      gio    elloy      m     36        f\n",
            "9   10   rozele  fawcett      f     50        f\n",
            "10   1      leo      deb      f     50        t\n",
            "11   2   romola     phin      f     60        f\n",
            "12   3     geri    prium      m     65        f\n",
            "13   4    sandy     dove      f     95        f\n",
            "14   5  jacenta   jansik      f     31        t\n",
            "15   6    diane     medh      f     45        t\n",
            "16   7   austen     pool      m     45        t\n",
            "17   8    vanya     teff      m     70        f\n",
            "18   9      gio    elloy      m     36        f\n",
            "19  10   rozele  fawcett      f     50        f\n",
            "Display before duplication\n",
            "\n",
            "\n",
            "\n",
            "\n",
            "   id    first     last gender  marks selected\n",
            "0   1      leo      deb      f     50        t\n",
            "1   2   romola     phin      f     60        f\n",
            "2   3     geri    prium      m     65        f\n",
            "3   4    sandy     dove      f     95        f\n",
            "4   5  jacenta   jansik      f     31        t\n",
            "5   6    diane     medh      f     45        t\n",
            "6   7   austen     pool      m     45        t\n",
            "7   8    vanya     teff      m     70        f\n",
            "8   9      gio    elloy      m     36        f\n",
            "9  10   rozele  fawcett      f     50        f\n",
            "Display after duplication\n",
            "\n",
            "\n",
            "\n",
            "\n"
          ]
        }
      ]
    },
    {
      "cell_type": "code",
      "source": [
        "import pandas as pd\n",
        "df = pd.DataFrame({\n",
        "'m1':[50,'A',60,'A',80], 'm2':[60,'A','60','A',80], 'm3':[50,70,'A','A',60], 'm4':[60,'A','A','A',60], 'm5':['A','A','A',10,20] })\n",
        "df = df.apply(pd.to_numeric,errors='coerce')\n",
        "print(df)\n",
        "df['m5']=df['m5'].fillna(0)\n",
        "print(df)\n",
        "print('Making m5 NaN as 0 using fillna() function\\n\\n\\n\\n')\n",
        "df1 = df.copy()\n",
        "df1['m2'].fillna(df1['m2'].mean(),inplace=True)\n",
        "print(df1)\n",
        "print('Making m5 NaN as mean using fillna() function\\n\\n\\n\\n')\n",
        "df2 = df.copy()\n",
        "df1['m3'].fillna(df1['m2'].median(),inplace=True)\n",
        "print(df2)\n",
        "print('Making m5 NaN as median using fillna() function\\n\\n\\n\\n')\n",
        "df=df.dropna(axis=1)\n",
        "print(df)\n",
        "print('Dropping all columns having NaN\\n\\n\\n\\n')"
      ],
      "metadata": {
        "colab": {
          "base_uri": "https://localhost:8080/"
        },
        "id": "32a8hm9AIiHg",
        "outputId": "516c6b68-d040-42ac-99a7-16df90b12c08"
      },
      "execution_count": null,
      "outputs": [
        {
          "output_type": "stream",
          "name": "stdout",
          "text": [
            "     m1    m2    m3    m4    m5\n",
            "0  50.0  60.0  50.0  60.0   NaN\n",
            "1   NaN   NaN  70.0   NaN   NaN\n",
            "2  60.0  60.0   NaN   NaN   NaN\n",
            "3   NaN   NaN   NaN   NaN  10.0\n",
            "4  80.0  80.0  60.0  60.0  20.0\n",
            "     m1    m2    m3    m4    m5\n",
            "0  50.0  60.0  50.0  60.0   0.0\n",
            "1   NaN   NaN  70.0   NaN   0.0\n",
            "2  60.0  60.0   NaN   NaN   0.0\n",
            "3   NaN   NaN   NaN   NaN  10.0\n",
            "4  80.0  80.0  60.0  60.0  20.0\n",
            "Making m5 NaN as 0 using fillna() function\n",
            "\n",
            "\n",
            "\n",
            "\n",
            "     m1         m2    m3    m4    m5\n",
            "0  50.0  60.000000  50.0  60.0   0.0\n",
            "1   NaN  66.666667  70.0   NaN   0.0\n",
            "2  60.0  60.000000   NaN   NaN   0.0\n",
            "3   NaN  66.666667   NaN   NaN  10.0\n",
            "4  80.0  80.000000  60.0  60.0  20.0\n",
            "Making m5 NaN as mean using fillna() function\n",
            "\n",
            "\n",
            "\n",
            "\n",
            "     m1    m2    m3    m4    m5\n",
            "0  50.0  60.0  50.0  60.0   0.0\n",
            "1   NaN   NaN  70.0   NaN   0.0\n",
            "2  60.0  60.0   NaN   NaN   0.0\n",
            "3   NaN   NaN   NaN   NaN  10.0\n",
            "4  80.0  80.0  60.0  60.0  20.0\n",
            "Making m5 NaN as median using fillna() function\n",
            "\n",
            "\n",
            "\n",
            "\n",
            "     m5\n",
            "0   0.0\n",
            "1   0.0\n",
            "2   0.0\n",
            "3  10.0\n",
            "4  20.0\n",
            "Dropping all columns having NaN\n",
            "\n",
            "\n",
            "\n",
            "\n"
          ]
        }
      ]
    },
    {
      "cell_type": "code",
      "source": [
        "from numpy import asarray\n",
        "from sklearn.preprocessing import MinMaxScaler\n",
        "from sklearn.preprocessing import StandardScaler\n",
        "data = asarray([[1,3],[8,5],[6,7],[8,9]])\n",
        "print(\"\\n Original Data\")\n",
        "print(data)\n",
        "scaler1 = MinMaxScaler()\n",
        "scaler2 = StandardScaler()\n",
        "scaled1 = scaler1.fit_transform(data)\n",
        "scaled2 = scaler2.fit_transform(data)\n",
        "print(\"\\n\\nThe output of MinMax Scaling\")\n",
        "print(scaled1)\n",
        "print(\"\\n\\nThe output of Standard scaling as z-score\")\n",
        "print(scaled2)"
      ],
      "metadata": {
        "colab": {
          "base_uri": "https://localhost:8080/"
        },
        "id": "7kIEmmbXNEIA",
        "outputId": "6f4125ff-23b5-431c-f1b3-5759b2ae3f7b"
      },
      "execution_count": null,
      "outputs": [
        {
          "output_type": "stream",
          "name": "stdout",
          "text": [
            "\n",
            " Original Data\n",
            "[[1 3]\n",
            " [8 5]\n",
            " [6 7]\n",
            " [8 9]]\n",
            "\n",
            "\n",
            "The output of MinMax Scaling\n",
            "[[0.         0.        ]\n",
            " [1.         0.33333333]\n",
            " [0.71428571 0.66666667]\n",
            " [1.         1.        ]]\n",
            "\n",
            "\n",
            "The output of Standard scaling as z-score\n",
            "[[-1.66003771 -1.34164079]\n",
            " [ 0.78633365 -0.4472136 ]\n",
            " [ 0.08737041  0.4472136 ]\n",
            " [ 0.78633365  1.34164079]]\n"
          ]
        }
      ]
    }
  ]
}