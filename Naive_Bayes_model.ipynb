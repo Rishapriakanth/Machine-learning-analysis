{
  "nbformat": 4,
  "nbformat_minor": 0,
  "metadata": {
    "colab": {
      "provenance": [],
      "authorship_tag": "ABX9TyPHBy3YET3ACSLgA/ojeXN8",
      "include_colab_link": true
    },
    "kernelspec": {
      "name": "python3",
      "display_name": "Python 3"
    },
    "language_info": {
      "name": "python"
    }
  },
  "cells": [
    {
      "cell_type": "markdown",
      "metadata": {
        "id": "view-in-github",
        "colab_type": "text"
      },
      "source": [
        "<a href=\"https://colab.research.google.com/github/Rishapriakanth/Machine-learning-analysis/blob/main/Naive_Bayes_model.ipynb\" target=\"_parent\"><img src=\"https://colab.research.google.com/assets/colab-badge.svg\" alt=\"Open In Colab\"/></a>"
      ]
    },
    {
      "cell_type": "code",
      "execution_count": 3,
      "metadata": {
        "colab": {
          "base_uri": "https://localhost:8080/"
        },
        "id": "KDPyoYC6E9g2",
        "outputId": "04183265-0d7e-4e8e-f6ab-efa40f29f6f3"
      },
      "outputs": [
        {
          "output_type": "stream",
          "name": "stdout",
          "text": [
            "CGPA: [1 0 1 2 0 1 2 1 0 0]\n",
            "Inter: [1 0 0 0 1 1 1 0 1 1]\n",
            "PK: [1 0 2 2 0 0 0 1 0 2]\n",
            "CS: [0 1 2 0 1 1 2 0 0 0]\n",
            "Job: [1 1 0 0 1 1 0 1 1 1]\n",
            "              precision    recall  f1-score   support\n",
            "\n",
            "           1       1.00      1.00      1.00         3\n",
            "\n",
            "    accuracy                           1.00         3\n",
            "   macro avg       1.00      1.00      1.00         3\n",
            "weighted avg       1.00      1.00      1.00         3\n",
            "\n",
            "[[3]]\n",
            "[2, 0, 2, 0]\n",
            "Predicted Value:Didn't get JOB\n",
            "[0, 1, 0, 1]\n",
            "Predicted Value:Got JOB\n"
          ]
        }
      ],
      "source": [
        "from sklearn.preprocessing import LabelEncoder\n",
        "from sklearn.model_selection import train_test_split\n",
        "from sklearn.naive_bayes import GaussianNB\n",
        "from sklearn import preprocessing\n",
        "from sklearn.metrics import classification_report, confusion_matrix\n",
        "CGPA = ['g9','g8','g9','l8','g8','g9','l8','g9','g8','g8']\n",
        "Inter = ['Y','N','N','N','Y','Y','Y','N','Y','Y']\n",
        "PK = ['+++','+','==','==','+','+','+','+++','+','==']\n",
        "CS = ['G','M','P','G','M','M','P','G','G','G']\n",
        "Job = ['Y','Y','N','N','Y','Y','N','Y','Y','Y']\n",
        "#creating labelEncoder\n",
        "le = preprocessing.LabelEncoder()\n",
        "#Converting string labels into numbers.\n",
        "CGPA_encoded = le.fit_transform(CGPA)\n",
        "print(\"CGPA:\", CGPA_encoded)\n",
        "Inter_encoded = le.fit_transform(Inter)\n",
        "PK_encoded = le.fit_transform(PK)\n",
        "CS_encoded = le.fit_transform(CS)\n",
        "label = le.fit_transform(Job)\n",
        "print(\"Inter:\",Inter_encoded)\n",
        "print (\"PK:\",PK_encoded)\n",
        "print (\"CS:\",CS_encoded)\n",
        "print(\"Job:\",label)\n",
        "features = []\n",
        "for i in range(len(CGPA_encoded)):\n",
        "      features.append([CGPA_encoded[i], Inter_encoded[i], PK_encoded[i], CS_encoded[i]])\n",
        "X_train,X_test,y_train,y_test=train_test_split(features,label,test_size=0.30,random_state=2)\n",
        "#Create a Gaussian Classifier\n",
        "model = GaussianNB()\n",
        "# Train the model using the training sets\n",
        "model.fit(features,label)\n",
        "y_pred = model.predict(X_test)\n",
        "print(classification_report(y_test, y_pred))\n",
        "print(confusion_matrix(y_test, y_pred))\n",
        "print([2,0,2,0])\n",
        "if model.predict([[2,0,2,0]])==1:\n",
        "      print(\"Predicted Value:Got JOB\")\n",
        "else:\n",
        "      print(\"Predicted Value:Didn't get JOB\")\n",
        "print([0,1,0,1])\n",
        "if model.predict([[0,1,0,1]])==1:\n",
        "      print(\"Predicted Value:Got JOB\")\n",
        "else:\n",
        "      print(\"Predicted Value:Didn't get JOB\")\n"
      ]
    },
    {
      "cell_type": "code",
      "source": [
        "from sklearn import datasets\n",
        "from sklearn import metrics\n",
        "from sklearn.naive_bayes import GaussianNB\n",
        "from sklearn.metrics import classification_report, confusion_matrix\n",
        "from sklearn.model_selection import train_test_split\n",
        "dataset = datasets.load_iris()\n",
        "model = GaussianNB()\n",
        "X_train,X_test,y_train,y_test=train_test_split(dataset.data,dataset.target,test_size=0.30,random_state=2)\n",
        "model.fit(X_train, y_train)\n",
        "print(model)\n",
        "# Make predictions\n",
        "y_expected = y_test\n",
        "y_predicted = model.predict(X_test)\n",
        "# Evaluate the model and print the classification report, Confusion Matrix\n",
        "print(metrics.classification_report(y_expected, y_predicted))\n",
        "print(metrics.confusion_matrix(y_expected, y_predicted))"
      ],
      "metadata": {
        "colab": {
          "base_uri": "https://localhost:8080/"
        },
        "id": "Esh4Q_07KoGF",
        "outputId": "0db709fa-d5a0-4f26-bb1c-0cbe011db72e"
      },
      "execution_count": 4,
      "outputs": [
        {
          "output_type": "stream",
          "name": "stdout",
          "text": [
            "GaussianNB()\n",
            "              precision    recall  f1-score   support\n",
            "\n",
            "           0       1.00      1.00      1.00        17\n",
            "           1       1.00      0.93      0.97        15\n",
            "           2       0.93      1.00      0.96        13\n",
            "\n",
            "    accuracy                           0.98        45\n",
            "   macro avg       0.98      0.98      0.98        45\n",
            "weighted avg       0.98      0.98      0.98        45\n",
            "\n",
            "[[17  0  0]\n",
            " [ 0 14  1]\n",
            " [ 0  0 13]]\n"
          ]
        }
      ]
    }
  ]
}