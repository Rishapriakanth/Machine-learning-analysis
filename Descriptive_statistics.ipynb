{
  "nbformat": 4,
  "nbformat_minor": 0,
  "metadata": {
    "colab": {
      "provenance": [],
      "authorship_tag": "ABX9TyNCGIPBF+T1b0vO3gc7LKvC",
      "include_colab_link": true
    },
    "kernelspec": {
      "name": "python3",
      "display_name": "Python 3"
    },
    "language_info": {
      "name": "python"
    }
  },
  "cells": [
    {
      "cell_type": "markdown",
      "metadata": {
        "id": "view-in-github",
        "colab_type": "text"
      },
      "source": [
        "<a href=\"https://colab.research.google.com/github/Rishapriakanth/Machine-learning-analysis/blob/main/Descriptive_statistics.ipynb\" target=\"_parent\"><img src=\"https://colab.research.google.com/assets/colab-badge.svg\" alt=\"Open In Colab\"/></a>"
      ]
    },
    {
      "cell_type": "code",
      "execution_count": null,
      "metadata": {
        "colab": {
          "base_uri": "https://localhost:8080/"
        },
        "id": "UA3rasW1CgUP",
        "outputId": "d9801fba-667c-4751-9b6a-2e9410304e2e"
      },
      "outputs": [
        {
          "output_type": "stream",
          "name": "stdout",
          "text": [
            "   id    first     last gender  marks selected\n",
            "0   1      leo      deb      f     50        t\n",
            "1   2   romola     phin      f     60        f\n",
            "2   3     geri    prium      m     65        f\n",
            "3   4    sandy     dove      f     95        f\n",
            "4   5  jacenta   jansik      f     31        t\n",
            "5   6    diane     medh      f     45        t\n",
            "6   7   austen     pool      m     45        t\n",
            "7   8    vanya     teff      m     70        f\n",
            "8   9      gio    elloy      m     36        f\n",
            "9  10   rozele  fawcett      f     50        f\n",
            "Mean Marks\n",
            "54.7\n",
            "Sum of the Marks\n",
            "547\n",
            "Maximum of the marks\n",
            "95\n",
            "Minimum of the marks\n",
            "31\n",
            "Count of the marks\n",
            "10\n",
            "Standard deviation of the marks\n",
            "18.666964283341724\n",
            "Variance of the marks\n",
            "348.4555555555555\n",
            "End of Summary \n",
            "\n",
            "\n",
            "\n"
          ]
        }
      ],
      "source": [
        "import pandas as pd\n",
        "df = pd.read_csv(\"/content/sample - Sheet1.csv\")\n",
        "print(df)\n",
        "mean1= df['marks'].mean()\n",
        "sum1 = df['marks'].sum()\n",
        "max1 = df['marks'].max()\n",
        "min1 = df['marks'].min()\n",
        "count1 = df['marks'].count()\n",
        "median1 = df['marks'].median()\n",
        "sd1 = df['marks'].std()\n",
        "var1 = df['marks'].var()\n",
        "print('Mean Marks\\n' + str(mean1))\n",
        "print('Sum of the Marks\\n' + str(sum1))\n",
        "print('Maximum of the marks\\n' + str(max1))\n",
        "print('Minimum of the marks\\n' + str(min1))\n",
        "print('Count of the marks\\n' + str(count1))\n",
        "print('Standard deviation of the marks\\n' + str(sd1))\n",
        "print('Variance of the marks\\n' + str(var1))\n",
        "print('End of Summary \\n\\n\\n')"
      ]
    },
    {
      "cell_type": "code",
      "source": [
        "import pandas as pd\n",
        "df = pd.read_csv(\"/content/sample - Sheet1.csv\")\n",
        "print(df)\n",
        "print(df.shape)\n",
        "print(df.head(5))\n",
        "print(df.describe())"
      ],
      "metadata": {
        "id": "NfFUo_Y7H23Q",
        "outputId": "cedb3cc0-601d-4cfe-f776-356eac03ce92",
        "colab": {
          "base_uri": "https://localhost:8080/"
        }
      },
      "execution_count": null,
      "outputs": [
        {
          "output_type": "stream",
          "name": "stdout",
          "text": [
            "   id    first     last gender  marks selected\n",
            "0   1      leo      deb      f     50        t\n",
            "1   2   romola     phin      f     60        f\n",
            "2   3     geri    prium      m     65        f\n",
            "3   4    sandy     dove      f     95        f\n",
            "4   5  jacenta   jansik      f     31        t\n",
            "5   6    diane     medh      f     45        t\n",
            "6   7   austen     pool      m     45        t\n",
            "7   8    vanya     teff      m     70        f\n",
            "8   9      gio    elloy      m     36        f\n",
            "9  10   rozele  fawcett      f     50        f\n",
            "(10, 6)\n",
            "   id    first    last gender  marks selected\n",
            "0   1      leo     deb      f     50        t\n",
            "1   2   romola    phin      f     60        f\n",
            "2   3     geri   prium      m     65        f\n",
            "3   4    sandy    dove      f     95        f\n",
            "4   5  jacenta  jansik      f     31        t\n",
            "             id      marks\n",
            "count  10.00000  10.000000\n",
            "mean    5.50000  54.700000\n",
            "std     3.02765  18.666964\n",
            "min     1.00000  31.000000\n",
            "25%     3.25000  45.000000\n",
            "50%     5.50000  50.000000\n",
            "75%     7.75000  63.750000\n",
            "max    10.00000  95.000000\n"
          ]
        }
      ]
    },
    {
      "cell_type": "code",
      "source": [
        "from scipy import stats\n",
        "data = [1,2,3,4,5,6,8,8,8,8,9,10,10,10,12,14,18,18,18,22,39,44,55,55,55,55,66,78,79,88]\n",
        "print(\"\\n Details of the data \\n\", stats.describe(data))\n",
        "print(\"\\n The cumulative frequency of the data-n\",stats.cumfreq(data))\n",
        "print(\"\\n The Geometric mean of the data-n\",stats.gmean(data))\n",
        "print(\"\\n The Harmonic mean of the data-n\",stats.hmean(data))\n",
        "print(\"\\n The IQR of the data-n\",stats.iqr(data))\n",
        "print(\"\\n The Zscore of the data-n\",stats.zscore(data))\n",
        "print(\"\\n The skewness of the data-n\",stats.skew(data))\n",
        "print(\"\\n The Kurtosos of the data-n\",stats.kurtosis(data))\n",
        "data = [1,2,3,6,8,10]\n",
        "data1 = [2,3,4,5,9,12]\n",
        "print(\"\\n The Spearman correlation of the data-n\",stats.spearmanr(data,data1))"
      ],
      "metadata": {
        "colab": {
          "base_uri": "https://localhost:8080/"
        },
        "id": "_nBKcB07cTZ2",
        "outputId": "2ee40b7c-c5e8-4caa-cdc0-e784fd3a2dc1"
      },
      "execution_count": null,
      "outputs": [
        {
          "output_type": "stream",
          "name": "stdout",
          "text": [
            "\n",
            " Details of the data \n",
            " DescribeResult(nobs=30, minmax=(1, 88), mean=26.933333333333334, variance=715.3057471264368, skewness=0.9591014772240082, kurtosis=-0.5039593211083249)\n",
            "\n",
            " The cumulative frequency of the data-n CumfreqResult(cumcount=array([ 5., 16., 20., 20., 22., 22., 26., 27., 29., 30.]), lowerlimit=-3.833333333333333, binsize=9.666666666666666, extrapoints=0)\n",
            "\n",
            " The Geometric mean of the data-n 15.260661495888634\n",
            "\n",
            " The Harmonic mean of the data-n 7.690170827943984\n",
            "\n",
            " The IQR of the data-n 44.25\n",
            "\n",
            " The Zscore of the data-n [-0.9862207  -0.94819162 -0.91016255 -0.87213347 -0.8341044  -0.79607532\n",
            " -0.72001717 -0.72001717 -0.72001717 -0.72001717 -0.68198809 -0.64395902\n",
            " -0.64395902 -0.64395902 -0.56790087 -0.49184271 -0.33972641 -0.33972641\n",
            " -0.33972641 -0.18761011  0.45888418  0.64902956  1.06734939  1.06734939\n",
            "  1.06734939  1.06734939  1.48566923  1.94201814  1.98004721  2.3223089 ]\n",
            "\n",
            " The skewness of the data-n 0.9591014772240082\n",
            "\n",
            " The Kurtosos of the data-n -0.5039593211083249\n",
            "\n",
            " The Spearman correlation of the data-n SignificanceResult(statistic=1.0, pvalue=0.0)\n"
          ]
        }
      ]
    }
  ]
}